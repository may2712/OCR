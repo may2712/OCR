{
  "cells": [
    {
      "cell_type": "code",
      "execution_count": 1,
      "metadata": {
        "colab": {
          "base_uri": "https://localhost:8080/"
        },
        "id": "-2HMrQSocEZ_",
        "outputId": "c92503da-1e49-4704-dab4-f40f27423777"
      },
      "outputs": [
        {
          "name": "stdout",
          "output_type": "stream",
          "text": [
            "Reading package lists... Done\n",
            "Building dependency tree... Done\n",
            "Reading state information... Done\n",
            "tesseract-ocr is already the newest version (4.1.1-2.1build1).\n",
            "0 upgraded, 0 newly installed, 0 to remove and 35 not upgraded.\n",
            "Collecting pytesseract\n",
            "  Downloading pytesseract-0.3.13-py3-none-any.whl.metadata (11 kB)\n",
            "Requirement already satisfied: beautifulsoup4 in /usr/local/lib/python3.11/dist-packages (4.13.4)\n",
            "Collecting hocr-tools\n",
            "  Downloading hocr-tools-1.1.1.tar.gz (12 kB)\n",
            "  Preparing metadata (setup.py) ... \u001b[?25l\u001b[?25hdone\n",
            "Requirement already satisfied: packaging>=21.3 in /usr/local/lib/python3.11/dist-packages (from pytesseract) (24.2)\n",
            "Requirement already satisfied: Pillow>=8.0.0 in /usr/local/lib/python3.11/dist-packages (from pytesseract) (11.2.1)\n",
            "Requirement already satisfied: soupsieve>1.2 in /usr/local/lib/python3.11/dist-packages (from beautifulsoup4) (2.7)\n",
            "Requirement already satisfied: typing-extensions>=4.0.0 in /usr/local/lib/python3.11/dist-packages (from beautifulsoup4) (4.14.0)\n",
            "Requirement already satisfied: lxml in /usr/local/lib/python3.11/dist-packages (from hocr-tools) (5.4.0)\n",
            "Collecting reportlab (from hocr-tools)\n",
            "  Downloading reportlab-4.4.2-py3-none-any.whl.metadata (1.8 kB)\n",
            "Requirement already satisfied: charset-normalizer in /usr/local/lib/python3.11/dist-packages (from reportlab->hocr-tools) (3.4.2)\n",
            "Downloading pytesseract-0.3.13-py3-none-any.whl (14 kB)\n",
            "Downloading reportlab-4.4.2-py3-none-any.whl (2.0 MB)\n",
            "\u001b[2K   \u001b[90m━━━━━━━━━━━━━━━━━━━━━━━━━━━━━━━━━━━━━━━━\u001b[0m \u001b[32m2.0/2.0 MB\u001b[0m \u001b[31m33.5 MB/s\u001b[0m eta \u001b[36m0:00:00\u001b[0m\n",
            "\u001b[?25hBuilding wheels for collected packages: hocr-tools\n",
            "  Building wheel for hocr-tools (setup.py) ... \u001b[?25l\u001b[?25hdone\n",
            "  Created wheel for hocr-tools: filename=hocr_tools-1.1.1-py3-none-any.whl size=18480 sha256=f3f850c393988707a67b2dcfb83883b27debf5223185a2b549748cfc0cf64ecd\n",
            "  Stored in directory: /root/.cache/pip/wheels/a4/c8/e9/aa523bc7119c61f24a5e4cd208412b29c7deba92356f2bff36\n",
            "Successfully built hocr-tools\n",
            "Installing collected packages: reportlab, pytesseract, hocr-tools\n",
            "Successfully installed hocr-tools-1.1.1 pytesseract-0.3.13 reportlab-4.4.2\n"
          ]
        }
      ],
      "source": [
        "!apt-get install tesseract-ocr -y\n",
        "!pip install pytesseract beautifulsoup4 hocr-tools"
      ]
    },
    {
      "cell_type": "code",
      "execution_count": 2,
      "metadata": {
        "colab": {
          "base_uri": "https://localhost:8080/",
          "height": 73
        },
        "id": "byCoKnHYcME2",
        "outputId": "1a6d441a-2831-478a-fa13-cc1811fe37f0"
      },
      "outputs": [
        {
          "data": {
            "text/html": [
              "\n",
              "     <input type=\"file\" id=\"files-5b62248f-a057-460d-91d1-d9c8171c7e17\" name=\"files[]\" multiple disabled\n",
              "        style=\"border:none\" />\n",
              "     <output id=\"result-5b62248f-a057-460d-91d1-d9c8171c7e17\">\n",
              "      Upload widget is only available when the cell has been executed in the\n",
              "      current browser session. Please rerun this cell to enable.\n",
              "      </output>\n",
              "      <script>// Copyright 2017 Google LLC\n",
              "//\n",
              "// Licensed under the Apache License, Version 2.0 (the \"License\");\n",
              "// you may not use this file except in compliance with the License.\n",
              "// You may obtain a copy of the License at\n",
              "//\n",
              "//      http://www.apache.org/licenses/LICENSE-2.0\n",
              "//\n",
              "// Unless required by applicable law or agreed to in writing, software\n",
              "// distributed under the License is distributed on an \"AS IS\" BASIS,\n",
              "// WITHOUT WARRANTIES OR CONDITIONS OF ANY KIND, either express or implied.\n",
              "// See the License for the specific language governing permissions and\n",
              "// limitations under the License.\n",
              "\n",
              "/**\n",
              " * @fileoverview Helpers for google.colab Python module.\n",
              " */\n",
              "(function(scope) {\n",
              "function span(text, styleAttributes = {}) {\n",
              "  const element = document.createElement('span');\n",
              "  element.textContent = text;\n",
              "  for (const key of Object.keys(styleAttributes)) {\n",
              "    element.style[key] = styleAttributes[key];\n",
              "  }\n",
              "  return element;\n",
              "}\n",
              "\n",
              "// Max number of bytes which will be uploaded at a time.\n",
              "const MAX_PAYLOAD_SIZE = 100 * 1024;\n",
              "\n",
              "function _uploadFiles(inputId, outputId) {\n",
              "  const steps = uploadFilesStep(inputId, outputId);\n",
              "  const outputElement = document.getElementById(outputId);\n",
              "  // Cache steps on the outputElement to make it available for the next call\n",
              "  // to uploadFilesContinue from Python.\n",
              "  outputElement.steps = steps;\n",
              "\n",
              "  return _uploadFilesContinue(outputId);\n",
              "}\n",
              "\n",
              "// This is roughly an async generator (not supported in the browser yet),\n",
              "// where there are multiple asynchronous steps and the Python side is going\n",
              "// to poll for completion of each step.\n",
              "// This uses a Promise to block the python side on completion of each step,\n",
              "// then passes the result of the previous step as the input to the next step.\n",
              "function _uploadFilesContinue(outputId) {\n",
              "  const outputElement = document.getElementById(outputId);\n",
              "  const steps = outputElement.steps;\n",
              "\n",
              "  const next = steps.next(outputElement.lastPromiseValue);\n",
              "  return Promise.resolve(next.value.promise).then((value) => {\n",
              "    // Cache the last promise value to make it available to the next\n",
              "    // step of the generator.\n",
              "    outputElement.lastPromiseValue = value;\n",
              "    return next.value.response;\n",
              "  });\n",
              "}\n",
              "\n",
              "/**\n",
              " * Generator function which is called between each async step of the upload\n",
              " * process.\n",
              " * @param {string} inputId Element ID of the input file picker element.\n",
              " * @param {string} outputId Element ID of the output display.\n",
              " * @return {!Iterable<!Object>} Iterable of next steps.\n",
              " */\n",
              "function* uploadFilesStep(inputId, outputId) {\n",
              "  const inputElement = document.getElementById(inputId);\n",
              "  inputElement.disabled = false;\n",
              "\n",
              "  const outputElement = document.getElementById(outputId);\n",
              "  outputElement.innerHTML = '';\n",
              "\n",
              "  const pickedPromise = new Promise((resolve) => {\n",
              "    inputElement.addEventListener('change', (e) => {\n",
              "      resolve(e.target.files);\n",
              "    });\n",
              "  });\n",
              "\n",
              "  const cancel = document.createElement('button');\n",
              "  inputElement.parentElement.appendChild(cancel);\n",
              "  cancel.textContent = 'Cancel upload';\n",
              "  const cancelPromise = new Promise((resolve) => {\n",
              "    cancel.onclick = () => {\n",
              "      resolve(null);\n",
              "    };\n",
              "  });\n",
              "\n",
              "  // Wait for the user to pick the files.\n",
              "  const files = yield {\n",
              "    promise: Promise.race([pickedPromise, cancelPromise]),\n",
              "    response: {\n",
              "      action: 'starting',\n",
              "    }\n",
              "  };\n",
              "\n",
              "  cancel.remove();\n",
              "\n",
              "  // Disable the input element since further picks are not allowed.\n",
              "  inputElement.disabled = true;\n",
              "\n",
              "  if (!files) {\n",
              "    return {\n",
              "      response: {\n",
              "        action: 'complete',\n",
              "      }\n",
              "    };\n",
              "  }\n",
              "\n",
              "  for (const file of files) {\n",
              "    const li = document.createElement('li');\n",
              "    li.append(span(file.name, {fontWeight: 'bold'}));\n",
              "    li.append(span(\n",
              "        `(${file.type || 'n/a'}) - ${file.size} bytes, ` +\n",
              "        `last modified: ${\n",
              "            file.lastModifiedDate ? file.lastModifiedDate.toLocaleDateString() :\n",
              "                                    'n/a'} - `));\n",
              "    const percent = span('0% done');\n",
              "    li.appendChild(percent);\n",
              "\n",
              "    outputElement.appendChild(li);\n",
              "\n",
              "    const fileDataPromise = new Promise((resolve) => {\n",
              "      const reader = new FileReader();\n",
              "      reader.onload = (e) => {\n",
              "        resolve(e.target.result);\n",
              "      };\n",
              "      reader.readAsArrayBuffer(file);\n",
              "    });\n",
              "    // Wait for the data to be ready.\n",
              "    let fileData = yield {\n",
              "      promise: fileDataPromise,\n",
              "      response: {\n",
              "        action: 'continue',\n",
              "      }\n",
              "    };\n",
              "\n",
              "    // Use a chunked sending to avoid message size limits. See b/62115660.\n",
              "    let position = 0;\n",
              "    do {\n",
              "      const length = Math.min(fileData.byteLength - position, MAX_PAYLOAD_SIZE);\n",
              "      const chunk = new Uint8Array(fileData, position, length);\n",
              "      position += length;\n",
              "\n",
              "      const base64 = btoa(String.fromCharCode.apply(null, chunk));\n",
              "      yield {\n",
              "        response: {\n",
              "          action: 'append',\n",
              "          file: file.name,\n",
              "          data: base64,\n",
              "        },\n",
              "      };\n",
              "\n",
              "      let percentDone = fileData.byteLength === 0 ?\n",
              "          100 :\n",
              "          Math.round((position / fileData.byteLength) * 100);\n",
              "      percent.textContent = `${percentDone}% done`;\n",
              "\n",
              "    } while (position < fileData.byteLength);\n",
              "  }\n",
              "\n",
              "  // All done.\n",
              "  yield {\n",
              "    response: {\n",
              "      action: 'complete',\n",
              "    }\n",
              "  };\n",
              "}\n",
              "\n",
              "scope.google = scope.google || {};\n",
              "scope.google.colab = scope.google.colab || {};\n",
              "scope.google.colab._files = {\n",
              "  _uploadFiles,\n",
              "  _uploadFilesContinue,\n",
              "};\n",
              "})(self);\n",
              "</script> "
            ],
            "text/plain": [
              "<IPython.core.display.HTML object>"
            ]
          },
          "metadata": {},
          "output_type": "display_data"
        },
        {
          "name": "stdout",
          "output_type": "stream",
          "text": [
            "Saving paragraphe.png to paragraphe.png\n"
          ]
        }
      ],
      "source": [
        "from google.colab import files\n",
        "uploaded = files.upload()"
      ]
    },
    {
      "cell_type": "code",
      "execution_count": 3,
      "metadata": {
        "id": "1jY6lV9DcV5s"
      },
      "outputs": [],
      "source": [
        "import pytesseract\n",
        "from PIL import Image\n",
        "import os\n",
        "\n",
        "# Load image\n",
        "image_path = list(uploaded.keys())[0]\n",
        "image = Image.open(image_path)\n",
        "\n",
        "# Generate hOCR output\n",
        "hocr_output = pytesseract.image_to_pdf_or_hocr(image, extension='hocr')\n",
        "\n",
        "# Save to file\n",
        "hocr_file_path = 'output.hocr'\n",
        "with open(hocr_file_path, 'wb') as f:\n",
        "    f.write(hocr_output)\n"
      ]
    },
    {
      "cell_type": "code",
      "execution_count": 5,
      "metadata": {
        "colab": {
          "base_uri": "https://localhost:8080/"
        },
        "id": "N8Wbjg0-lRkV",
        "outputId": "66c4e6a1-213c-4354-9e97-85794c906b35"
      },
      "outputs": [
        {
          "data": {
            "text/plain": [
              "b'<?xml version=\"1.0\" encoding=\"UTF-8\"?>\\n<!DOCTYPE html PUBLIC \"-//W3C//DTD XHTML 1.0 Transitional//EN\"\\n    \"http://www.w3.org/TR/xhtml1/DTD/xhtml1-transitional.dtd\">\\n<html xmlns=\"http://www.w3.org/1999/xhtml\" xml:lang=\"en\" lang=\"en\">\\n <head>\\n  <title></title>\\n  <meta http-equiv=\"Content-Type\" content=\"text/html;charset=utf-8\"/>\\n  <meta name=\\'ocr-system\\' content=\\'tesseract 4.1.1\\' />\\n  <meta name=\\'ocr-capabilities\\' content=\\'ocr_page ocr_carea ocr_par ocr_line ocrx_word ocrp_wconf\\'/>\\n </head>\\n <body>\\n  <div class=\\'ocr_page\\' id=\\'page_1\\' title=\\'image \"/tmp/tess_feio86oa_input.JPEG\"; bbox 0 0 735 896; ppageno 0\\'>\\n   <div class=\\'ocr_carea\\' id=\\'block_1_1\\' title=\"bbox 230 217 505 275\">\\n    <p class=\\'ocr_par\\' id=\\'par_1_1\\' lang=\\'eng\\' title=\"bbox 230 217 505 275\">\\n     <span class=\\'ocr_line\\' id=\\'line_1_1\\' title=\"bbox 230 217 505 275; baseline 0 0; x_size 63.417721; x_descenders 6.4177217; x_ascenders 18\">\\n      <span class=\\'ocrx_word\\' id=\\'word_1_1\\' title=\\'bbox 230 217 505 275; x_wconf 69\\'>J\\xe2\\x80\\x99admire</span>\\n     </span>\\n    </p>\\n   </div>\\n   <div class=\\'ocr_carea\\' id=\\'block_1_2\\' title=\"bbox 49 333 686 649\">\\n    <p class=\\'ocr_par\\' id=\\'par_1_2\\' lang=\\'eng\\' title=\"bbox 49 333 686 649\">\\n     <span class=\\'ocr_line\\' id=\\'line_1_2\\' title=\"bbox 50 333 685 365; baseline 0 -7; x_size 32; x_descenders 7; x_ascenders 8\">\\n      <span class=\\'ocrx_word\\' id=\\'word_1_2\\' title=\\'bbox 50 333 99 358; x_wconf 85\\'>J\\xe2\\x80\\x99ai</span>\\n      <span class=\\'ocrx_word\\' id=\\'word_1_3\\' title=\\'bbox 112 341 161 358; x_wconf 96\\'>une</span>\\n      <span class=\\'ocrx_word\\' id=\\'word_1_4\\' title=\\'bbox 174 333 268 365; x_wconf 96\\'>grande</span>\\n      <span class=\\'ocrx_word\\' id=\\'word_1_5\\' title=\\'bbox 282 333 406 358; x_wconf 96\\'>affection</span>\\n      <span class=\\'ocrx_word\\' id=\\'word_1_6\\' title=\\'bbox 419 341 483 365; x_wconf 96\\'>pour</span>\\n      <span class=\\'ocrx_word\\' id=\\'word_1_7\\' title=\\'bbox 496 333 533 358; x_wconf 96\\'>les</span>\\n      <span class=\\'ocrx_word\\' id=\\'word_1_8\\' title=\\'bbox 546 341 685 365; x_wconf 96\\'>personnes</span>\\n     </span>\\n     <span class=\\'ocr_line\\' id=\\'line_1_3\\' title=\"bbox 50 380 685 412; baseline 0 -7; x_size 32; x_descenders 7; x_ascenders 8\">\\n      <span class=\\'ocrx_word\\' id=\\'word_1_9\\' title=\\'bbox 50 380 93 412; x_wconf 93\\'>qui</span>\\n      <span class=\\'ocrx_word\\' id=\\'word_1_10\\' title=\\'bbox 107 380 205 405; x_wconf 92\\'>hurlent</span>\\n      <span class=\\'ocrx_word\\' id=\\'word_1_11\\' title=\\'bbox 219 388 251 405; x_wconf 96\\'>en</span>\\n      <span class=\\'ocrx_word\\' id=\\'word_1_12\\' title=\\'bbox 264 380 368 410; x_wconf 96\\'>silence,</span>\\n      <span class=\\'ocrx_word\\' id=\\'word_1_13\\' title=\\'bbox 382 380 444 405; x_wconf 96\\'>dont</span>\\n      <span class=\\'ocrx_word\\' id=\\'word_1_14\\' title=\\'bbox 457 380 480 405; x_wconf 93\\'>le</span>\\n      <span class=\\'ocrx_word\\' id=\\'word_1_15\\' title=\\'bbox 495 380 598 410; x_wconf 92\\'>sourire,</span>\\n      <span class=\\'ocrx_word\\' id=\\'word_1_16\\' title=\\'bbox 613 380 685 412; x_wconf 96\\'>quasi</span>\\n     </span>\\n     <span class=\\'ocr_line\\' id=\\'line_1_4\\' title=\"bbox 49 427 685 459; baseline 0 -7; x_size 32; x_descenders 7; x_ascenders 8\">\\n      <span class=\\'ocrx_word\\' id=\\'word_1_17\\' title=\\'bbox 49 427 148 459; x_wconf 96\\'>parfait,</span>\\n      <span class=\\'ocrx_word\\' id=\\'word_1_18\\' title=\\'bbox 159 427 237 452; x_wconf 96\\'>cache</span>\\n      <span class=\\'ocrx_word\\' id=\\'word_1_19\\' title=\\'bbox 246 435 295 452; x_wconf 93\\'>une</span>\\n      <span class=\\'ocrx_word\\' id=\\'word_1_20\\' title=\\'bbox 304 427 422 452; x_wconf 91\\'>cicatrice</span>\\n      <span class=\\'ocrx_word\\' id=\\'word_1_21\\' title=\\'bbox 431 427 553 452; x_wconf 50\\'>brilante.</span>\\n      <span class=\\'ocrx_word\\' id=\\'word_1_22\\' title=\\'bbox 563 427 685 452; x_wconf 89\\'>J\\xe2\\x80\\x99admire</span>\\n     </span>\\n     <span class=\\'ocr_line\\' id=\\'line_1_5\\' title=\"bbox 50 474 684 506; baseline 0 -7; x_size 32; x_descenders 7; x_ascenders 8\">\\n      <span class=\\'ocrx_word\\' id=\\'word_1_23\\' title=\\'bbox 50 482 93 499; x_wconf 93\\'>ces</span>\\n      <span class=\\'ocrx_word\\' id=\\'word_1_24\\' title=\\'bbox 109 474 209 506; x_wconf 92\\'>gens-la</span>\\n      <span class=\\'ocrx_word\\' id=\\'word_1_25\\' title=\\'bbox 224 482 299 506; x_wconf 93\\'>parce</span>\\n      <span class=\\'ocrx_word\\' id=\\'word_1_26\\' title=\\'bbox 315 474 394 506; x_wconf 92\\'>qu\\xe2\\x80\\x99ils</span>\\n      <span class=\\'ocrx_word\\' id=\\'word_1_27\\' title=\\'bbox 410 478 461 504; x_wconf 96\\'>ont,</span>\\n      <span class=\\'ocrx_word\\' id=\\'word_1_28\\' title=\\'bbox 478 482 536 499; x_wconf 96\\'>sans</span>\\n      <span class=\\'ocrx_word\\' id=\\'word_1_29\\' title=\\'bbox 553 474 576 499; x_wconf 95\\'>le</span>\\n      <span class=\\'ocrx_word\\' id=\\'word_1_30\\' title=\\'bbox 593 474 684 504; x_wconf 96\\'>savoir,</span>\\n     </span>\\n     <span class=\\'ocr_line\\' id=\\'line_1_6\\' title=\"bbox 51 523 685 555; baseline 0 -7; x_size 32; x_descenders 7; x_ascenders 8\">\\n      <span class=\\'ocrx_word\\' id=\\'word_1_31\\' title=\\'bbox 51 523 234 555; x_wconf 10\\'>intelligence</span>\\n      <span class=\\'ocrx_word\\' id=\\'word_1_32\\' title=\\'bbox 248 523 279 548; x_wconf 96\\'>de</span>\\n      <span class=\\'ocrx_word\\' id=\\'word_1_33\\' title=\\'bbox 293 531 325 548; x_wconf 96\\'>ne</span>\\n      <span class=\\'ocrx_word\\' id=\\'word_1_34\\' title=\\'bbox 338 531 383 555; x_wconf 93\\'>pas</span>\\n      <span class=\\'ocrx_word\\' id=\\'word_1_35\\' title=\\'bbox 397 527 554 548; x_wconf 91\\'>transmettre</span>\\n      <span class=\\'ocrx_word\\' id=\\'word_1_36\\' title=\\'bbox 568 523 582 548; x_wconf 92\\'>a</span>\\n      <span class=\\'ocrx_word\\' id=\\'word_1_37\\' title=\\'bbox 596 523 685 548; x_wconf 42\\'>|\\xe2\\x80\\x99autre</span>\\n     </span>\\n     <span class=\\'ocr_line\\' id=\\'line_1_7\\' title=\"bbox 50 570 686 602; baseline 0 -7; x_size 32; x_descenders 7; x_ascenders 8\">\\n      <span class=\\'ocrx_word\\' id=\\'word_1_38\\' title=\\'bbox 50 570 74 595; x_wconf 91\\'>la</span>\\n      <span class=\\'ocrx_word\\' id=\\'word_1_39\\' title=\\'bbox 98 570 221 595; x_wconf 91\\'>d\\xc3\\xa9mence</span>\\n      <span class=\\'ocrx_word\\' id=\\'word_1_40\\' title=\\'bbox 246 570 279 595; x_wconf 96\\'>du</span>\\n      <span class=\\'ocrx_word\\' id=\\'word_1_41\\' title=\\'bbox 303 570 415 602; x_wconf 95\\'>chagrin,</span>\\n      <span class=\\'ocrx_word\\' id=\\'word_1_42\\' title=\\'bbox 440 578 515 602; x_wconf 93\\'>parce</span>\\n      <span class=\\'ocrx_word\\' id=\\'word_1_43\\' title=\\'bbox 539 570 617 602; x_wconf 91\\'>qu\\xe2\\x80\\x99ils</span>\\n      <span class=\\'ocrx_word\\' id=\\'word_1_44\\' title=\\'bbox 642 574 686 595; x_wconf 96\\'>ont</span>\\n     </span>\\n     <span class=\\'ocr_line\\' id=\\'line_1_8\\' title=\"bbox 51 617 499 649; baseline 0 -7; x_size 32; x_descenders 7; x_ascenders 8\">\\n      <span class=\\'ocrx_word\\' id=\\'word_1_45\\' title=\\'bbox 51 617 193 649; x_wconf 64\\'>l\\xe2\\x80\\x99\\xc3\\xa9l\\xc3\\xa9gance</span>\\n      <span class=\\'ocrx_word\\' id=\\'word_1_46\\' title=\\'bbox 204 617 235 642; x_wconf 96\\'>de</span>\\n      <span class=\\'ocrx_word\\' id=\\'word_1_47\\' title=\\'bbox 247 617 270 642; x_wconf 93\\'>le</span>\\n      <span class=\\'ocrx_word\\' id=\\'word_1_48\\' title=\\'bbox 280 617 370 649; x_wconf 92\\'>garder</span>\\n      <span class=\\'ocrx_word\\' id=\\'word_1_49\\' title=\\'bbox 379 625 444 649; x_wconf 96\\'>pour</span>\\n      <span class=\\'ocrx_word\\' id=\\'word_1_50\\' title=\\'bbox 453 617 499 642; x_wconf 96\\'>soi.</span>\\n     </span>\\n    </p>\\n   </div>\\n   <div class=\\'ocr_carea\\' id=\\'block_1_3\\' title=\"bbox 488 728 685 753\">\\n    <p class=\\'ocr_par\\' id=\\'par_1_3\\' lang=\\'eng\\' title=\"bbox 488 728 685 753\">\\n     <span class=\\'ocr_line\\' id=\\'line_1_9\\' title=\"bbox 488 728 685 753; baseline 0 0; x_size 30.342857; x_descenders 5.3428574; x_ascenders 8\">\\n      <span class=\\'ocrx_word\\' id=\\'word_1_51\\' title=\\'bbox 488 729 524 753; x_wconf 93\\'>La</span>\\n      <span class=\\'ocrx_word\\' id=\\'word_1_52\\' title=\\'bbox 535 728 685 753; x_wconf 91\\'>d\\xc3\\xa9licatesse</span>\\n     </span>\\n    </p>\\n   </div>\\n  </div>\\n </body>\\n</html>\\n'"
            ]
          },
          "execution_count": 5,
          "metadata": {},
          "output_type": "execute_result"
        }
      ],
      "source": [
        "hocr_output"
      ]
    },
    {
      "cell_type": "code",
      "execution_count": 7,
      "metadata": {
        "colab": {
          "base_uri": "https://localhost:8080/"
        },
        "id": "nXhNw6kHcc00",
        "outputId": "2bd00ab8-4365-4fb0-c8c0-cbb1b908aee9"
      },
      "outputs": [
        {
          "name": "stdout",
          "output_type": "stream",
          "text": [
            "=== Texte structuré ===\n",
            "\n",
            "    J’admire\n",
            "\n",
            "    J’ai une grande affection pour les personnes\n",
            "    qui hurlent en silence, dont le sourire, quasi\n",
            "    parfait, cache une cicatrice brilante. J’admire\n",
            "    ces gens-la parce qu’ils ont, sans le savoir,\n",
            "    intelligence de ne pas transmettre a |’autre\n",
            "    la démence du chagrin, parce qu’ils ont\n",
            "    l’élégance de le garder pour soi.\n",
            "\n",
            "    La délicatesse\n",
            "\n",
            "\n"
          ]
        }
      ],
      "source": [
        "from bs4 import BeautifulSoup\n",
        "\n",
        "with open(hocr_file_path, 'r', encoding='utf-8') as file:\n",
        "    soup = BeautifulSoup(file, 'html.parser')\n",
        "\n",
        "# Extract text block by block\n",
        "structured_text = \"\"\n",
        "for block in soup.find_all(class_='ocr_par'):\n",
        "    for line in block.find_all(class_='ocr_line'):\n",
        "        words = [word.get_text() for word in line.find_all(class_='ocrx_word')]\n",
        "        line_text = ' '.join(words).strip()\n",
        "        if line_text:\n",
        "            structured_text += '    ' + line_text + '\\n'  # 4-space indentation\n",
        "    structured_text += '\\n'  # Paragraph break\n",
        "\n",
        "print(\"=== Texte structuré ===\\n\")\n",
        "print(structured_text)\n"
      ]
    }
  ],
  "metadata": {
    "colab": {
      "provenance": []
    },
    "kernelspec": {
      "display_name": "base",
      "language": "python",
      "name": "python3"
    },
    "language_info": {
      "name": "python",
      "version": "3.12.4"
    }
  },
  "nbformat": 4,
  "nbformat_minor": 0
}
